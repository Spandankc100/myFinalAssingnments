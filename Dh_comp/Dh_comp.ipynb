{
 "cells": [
  {
   "cell_type": "code",
   "execution_count": 4,
   "id": "8416c6a8-fc00-424c-9a70-e89d10993ce5",
   "metadata": {},
   "outputs": [],
   "source": [
    "import polars as pl"
   ]
  },
  {
   "cell_type": "code",
   "execution_count": 5,
   "id": "b36e0e24-21bb-4234-9a61-46b4f1a4a091",
   "metadata": {},
   "outputs": [
    {
     "data": {
      "text/html": [
       "<div><style>\n",
       ".dataframe > thead > tr,\n",
       ".dataframe > tbody > tr {\n",
       "  text-align: right;\n",
       "  white-space: pre-wrap;\n",
       "}\n",
       "</style>\n",
       "<small>shape: (5, 30)</small><table border=\"1\" class=\"dataframe\"><thead><tr><th>playerID</th><th>yearID</th><th>stint</th><th>teamID</th><th>lgID</th><th>W</th><th>L</th><th>G</th><th>GS</th><th>CG</th><th>SHO</th><th>SV</th><th>IPouts</th><th>H</th><th>ER</th><th>HR</th><th>BB</th><th>SO</th><th>BAOpp</th><th>ERA</th><th>IBB</th><th>WP</th><th>HBP</th><th>BK</th><th>BFP</th><th>GF</th><th>R</th><th>SH</th><th>SF</th><th>GIDP</th></tr><tr><td>str</td><td>i64</td><td>i64</td><td>str</td><td>str</td><td>i64</td><td>i64</td><td>i64</td><td>i64</td><td>i64</td><td>i64</td><td>i64</td><td>i64</td><td>i64</td><td>i64</td><td>i64</td><td>i64</td><td>i64</td><td>f64</td><td>f64</td><td>i64</td><td>i64</td><td>i64</td><td>i64</td><td>i64</td><td>i64</td><td>i64</td><td>i64</td><td>i64</td><td>i64</td></tr></thead><tbody><tr><td>&quot;aardsda01&quot;</td><td>2004</td><td>1</td><td>&quot;SFN&quot;</td><td>&quot;NL&quot;</td><td>1</td><td>0</td><td>11</td><td>0</td><td>0</td><td>0</td><td>0</td><td>32</td><td>20</td><td>8</td><td>1</td><td>10</td><td>5</td><td>0.417</td><td>6.75</td><td>0</td><td>0</td><td>2</td><td>0</td><td>61</td><td>5</td><td>8</td><td>0</td><td>1</td><td>1</td></tr><tr><td>&quot;aardsda01&quot;</td><td>2006</td><td>1</td><td>&quot;CHN&quot;</td><td>&quot;NL&quot;</td><td>3</td><td>0</td><td>45</td><td>0</td><td>0</td><td>0</td><td>0</td><td>159</td><td>41</td><td>24</td><td>9</td><td>28</td><td>49</td><td>0.214</td><td>4.08</td><td>0</td><td>1</td><td>1</td><td>0</td><td>225</td><td>9</td><td>25</td><td>1</td><td>3</td><td>2</td></tr><tr><td>&quot;aardsda01&quot;</td><td>2007</td><td>1</td><td>&quot;CHA&quot;</td><td>&quot;AL&quot;</td><td>2</td><td>1</td><td>25</td><td>0</td><td>0</td><td>0</td><td>0</td><td>97</td><td>39</td><td>23</td><td>4</td><td>17</td><td>36</td><td>0.3</td><td>6.4</td><td>3</td><td>2</td><td>1</td><td>0</td><td>151</td><td>7</td><td>24</td><td>2</td><td>1</td><td>1</td></tr><tr><td>&quot;aardsda01&quot;</td><td>2008</td><td>1</td><td>&quot;BOS&quot;</td><td>&quot;AL&quot;</td><td>4</td><td>2</td><td>47</td><td>0</td><td>0</td><td>0</td><td>0</td><td>146</td><td>49</td><td>30</td><td>4</td><td>35</td><td>49</td><td>0.268</td><td>5.55</td><td>2</td><td>3</td><td>5</td><td>0</td><td>228</td><td>7</td><td>32</td><td>3</td><td>2</td><td>4</td></tr><tr><td>&quot;aardsda01&quot;</td><td>2009</td><td>1</td><td>&quot;SEA&quot;</td><td>&quot;AL&quot;</td><td>3</td><td>6</td><td>73</td><td>0</td><td>0</td><td>0</td><td>38</td><td>214</td><td>49</td><td>20</td><td>4</td><td>34</td><td>80</td><td>0.19</td><td>2.52</td><td>3</td><td>2</td><td>0</td><td>0</td><td>296</td><td>53</td><td>23</td><td>2</td><td>1</td><td>2</td></tr></tbody></table></div>"
      ],
      "text/plain": [
       "shape: (5, 30)\n",
       "┌───────────┬────────┬───────┬────────┬───┬─────┬─────┬─────┬──────┐\n",
       "│ playerID  ┆ yearID ┆ stint ┆ teamID ┆ … ┆ R   ┆ SH  ┆ SF  ┆ GIDP │\n",
       "│ ---       ┆ ---    ┆ ---   ┆ ---    ┆   ┆ --- ┆ --- ┆ --- ┆ ---  │\n",
       "│ str       ┆ i64    ┆ i64   ┆ str    ┆   ┆ i64 ┆ i64 ┆ i64 ┆ i64  │\n",
       "╞═══════════╪════════╪═══════╪════════╪═══╪═════╪═════╪═════╪══════╡\n",
       "│ aardsda01 ┆ 2004   ┆ 1     ┆ SFN    ┆ … ┆ 8   ┆ 0   ┆ 1   ┆ 1    │\n",
       "│ aardsda01 ┆ 2006   ┆ 1     ┆ CHN    ┆ … ┆ 25  ┆ 1   ┆ 3   ┆ 2    │\n",
       "│ aardsda01 ┆ 2007   ┆ 1     ┆ CHA    ┆ … ┆ 24  ┆ 2   ┆ 1   ┆ 1    │\n",
       "│ aardsda01 ┆ 2008   ┆ 1     ┆ BOS    ┆ … ┆ 32  ┆ 3   ┆ 2   ┆ 4    │\n",
       "│ aardsda01 ┆ 2009   ┆ 1     ┆ SEA    ┆ … ┆ 23  ┆ 2   ┆ 1   ┆ 2    │\n",
       "└───────────┴────────┴───────┴────────┴───┴─────┴─────┴─────┴──────┘"
      ]
     },
     "execution_count": 5,
     "metadata": {},
     "output_type": "execute_result"
    }
   ],
   "source": [
    "pitching = pl. read_csv(\"./Data/lahman_1871-2023_csv/Pitching.csv\")\n",
    "pitching.head()"
   ]
  },
  {
   "cell_type": "code",
   "execution_count": 52,
   "id": "f4fb41dd-889f-4b47-9c8f-a22934bc375b",
   "metadata": {},
   "outputs": [
    {
     "name": "stdout",
     "output_type": "stream",
     "text": [
      "   yearID lgID    ER  IPouts       ERA\n",
      "0    1946   AL  4306   33186  3.503345\n",
      "1    1946   NL  4202   33254  3.411740\n",
      "2    1947   AL  4560   33228  3.705309\n",
      "3    1947   NL  4956   32902  4.066987\n",
      "4    1948   AL  5223   32929  4.282578\n"
     ]
    }
   ],
   "source": [
    "import pandas as pd\n",
    "pitching = pd.read_csv(\"./Data/lahman_1871-2023_csv/Pitching.csv\")\n",
    "modern_pitching = pitching[pitching['yearID'] >= 1946]\n",
    "grouped_era = modern_pitching.groupby(['yearID', 'lgID']).agg({\n",
    "    'ER': 'sum',   \n",
    "    'IPouts': 'sum'  \n",
    "}).reset_index()\n",
    "grouped_era['ERA'] = (grouped_era['ER'] / grouped_era['IPouts']) * 27\n",
    "print(grouped_era.head())\n"
   ]
  },
  {
   "cell_type": "code",
   "execution_count": 53,
   "id": "f107380d-63cf-4994-bd77-965ed0ba54bd",
   "metadata": {},
   "outputs": [
    {
     "name": "stdout",
     "output_type": "stream",
     "text": [
      "   yearID lgID    ER  IPouts       ERA DH_rule\n",
      "0    1946   AL  4306   33186  3.503345   No_DH\n",
      "1    1946   NL  4202   33254  3.411740   No_DH\n",
      "2    1947   AL  4560   33228  3.705309   No_DH\n",
      "3    1947   NL  4956   32902  4.066987   No_DH\n",
      "4    1948   AL  5223   32929  4.282578   No_DH\n"
     ]
    }
   ],
   "source": [
    "def dh_rule(year, league):\n",
    "    if league == 'AL' and year >= 1973:\n",
    "        return 'AL_with_DH'\n",
    "    elif league == 'NL' and year >= 2022:\n",
    "        return 'NL_with_DH'\n",
    "    else:\n",
    "        return 'No_DH'\n",
    "grouped_era['DH_rule'] = grouped_era.apply(lambda row: dh_rule(row['yearID'], row['lgID']), axis=1)\n",
    "print(grouped_era.head())\n"
   ]
  },
  {
   "cell_type": "code",
   "execution_count": 56,
   "id": "9e33a7ad-ad09-4a2e-9c97-c34b36d48ff8",
   "metadata": {},
   "outputs": [
    {
     "name": "stdout",
     "output_type": "stream",
     "text": [
      "   yearID lgID    1B   2B   3B  HR     AB  Total_Bases       SLG DH_rule\n",
      "0    1876   NL  4484  633  181  40  20121         6453  0.320710   No_DH\n",
      "1    1877   NL  3046  431  204  24  13667         4616  0.337748   No_DH\n",
      "2    1878   NL  2903  481  132  23  13644         4353  0.319041   No_DH\n",
      "3    1879   NL  4838  958  317  58  24155         7937  0.328586   No_DH\n",
      "4    1880   NL  4576  980  328  62  24301         7768  0.319658   No_DH\n"
     ]
    }
   ],
   "source": [
    "batting = pd.read_csv(\"./Data/lahman_1871-2023_csv/Batting.csv\")\n",
    "batting['1B'] = batting['H'] - (batting['2B'] + batting['3B'] + batting['HR'])\n",
    "grouped_slg = batting.groupby(['yearID', 'lgID']).agg({\n",
    "    '1B': 'sum',\n",
    "    '2B': 'sum',\n",
    "    '3B': 'sum',\n",
    "    'HR': 'sum',\n",
    "    'AB': 'sum'  \n",
    "}).reset_index()\n",
    "grouped_slg['Total_Bases'] = (grouped_slg['1B'] + \n",
    "                              2 * grouped_slg['2B'] + \n",
    "                              3 * grouped_slg['3B'] + \n",
    "                              4 * grouped_slg['HR'])\n",
    "\n",
    "grouped_slg['SLG'] = grouped_slg['Total_Bases'] / grouped_slg['AB']\n",
    "grouped_slg['DH_rule'] = grouped_slg.apply(lambda row: dh_rule(row['yearID'], row['lgID']), axis=1)\n",
    "print(grouped_slg.head())\n"
   ]
  },
  {
   "cell_type": "code",
   "execution_count": null,
   "id": "a45016cc-54c5-4ca1-96de-619f19453882",
   "metadata": {},
   "outputs": [],
   "source": []
  }
 ],
 "metadata": {
  "kernelspec": {
   "display_name": "Python 3 (ipykernel)",
   "language": "python",
   "name": "python3"
  },
  "language_info": {
   "codemirror_mode": {
    "name": "ipython",
    "version": 3
   },
   "file_extension": ".py",
   "mimetype": "text/x-python",
   "name": "python",
   "nbconvert_exporter": "python",
   "pygments_lexer": "ipython3",
   "version": "3.12.5"
  }
 },
 "nbformat": 4,
 "nbformat_minor": 5
}
